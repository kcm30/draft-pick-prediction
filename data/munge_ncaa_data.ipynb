{
 "cells": [
  {
   "cell_type": "code",
   "execution_count": 1,
   "metadata": {
    "collapsed": true
   },
   "outputs": [],
   "source": [
    "import numpy as np\n",
    "import pandas as pd"
   ]
  },
  {
   "cell_type": "code",
   "execution_count": 2,
   "metadata": {
    "collapsed": true
   },
   "outputs": [],
   "source": [
    "player_info = pd.read_csv(\"player_info.csv\")"
   ]
  },
  {
   "cell_type": "code",
   "execution_count": 3,
   "metadata": {},
   "outputs": [
    {
     "data": {
      "text/html": [
       "<div>\n",
       "<table border=\"1\" class=\"dataframe\">\n",
       "  <thead>\n",
       "    <tr style=\"text-align: right;\">\n",
       "      <th></th>\n",
       "      <th>opta_id</th>\n",
       "      <th>T</th>\n",
       "      <th>E</th>\n",
       "      <th>opta_name</th>\n",
       "      <th>draft_name</th>\n",
       "      <th>ncaa_name</th>\n",
       "      <th>season</th>\n",
       "      <th>position</th>\n",
       "      <th>school</th>\n",
       "      <th>pick</th>\n",
       "      <th>generation_adidas</th>\n",
       "    </tr>\n",
       "  </thead>\n",
       "  <tbody>\n",
       "    <tr>\n",
       "      <th>0</th>\n",
       "      <td>78019</td>\n",
       "      <td>12</td>\n",
       "      <td>1</td>\n",
       "      <td>Aaron Maund</td>\n",
       "      <td>Aaron Maund</td>\n",
       "      <td>Aaron Maund</td>\n",
       "      <td>2012</td>\n",
       "      <td>D</td>\n",
       "      <td>Notre Dame</td>\n",
       "      <td>12.0</td>\n",
       "      <td>0</td>\n",
       "    </tr>\n",
       "    <tr>\n",
       "      <th>1</th>\n",
       "      <td>110615</td>\n",
       "      <td>60</td>\n",
       "      <td>1</td>\n",
       "      <td>Alec Purdie</td>\n",
       "      <td>Alec Purdie</td>\n",
       "      <td>Alec Purdie</td>\n",
       "      <td>2012</td>\n",
       "      <td>M</td>\n",
       "      <td>Indiana</td>\n",
       "      <td>60.0</td>\n",
       "      <td>0</td>\n",
       "    </tr>\n",
       "    <tr>\n",
       "      <th>2</th>\n",
       "      <td>110581</td>\n",
       "      <td>15</td>\n",
       "      <td>1</td>\n",
       "      <td>Andrew Duran</td>\n",
       "      <td>Andrew Duran</td>\n",
       "      <td>Andrew Duran</td>\n",
       "      <td>2012</td>\n",
       "      <td>D</td>\n",
       "      <td>Creighton</td>\n",
       "      <td>15.0</td>\n",
       "      <td>0</td>\n",
       "    </tr>\n",
       "    <tr>\n",
       "      <th>3</th>\n",
       "      <td>110665</td>\n",
       "      <td>8</td>\n",
       "      <td>1</td>\n",
       "      <td>Andrew Jean-Baptiste</td>\n",
       "      <td>Andrew Jean-Baptiste</td>\n",
       "      <td>Andrew Jean-Baptiste</td>\n",
       "      <td>2012</td>\n",
       "      <td>D</td>\n",
       "      <td>UConn</td>\n",
       "      <td>8.0</td>\n",
       "      <td>1</td>\n",
       "    </tr>\n",
       "    <tr>\n",
       "      <th>4</th>\n",
       "      <td>110618</td>\n",
       "      <td>44</td>\n",
       "      <td>1</td>\n",
       "      <td>Andy Rose</td>\n",
       "      <td>Andy Rose</td>\n",
       "      <td>Andy Rose</td>\n",
       "      <td>2012</td>\n",
       "      <td>M</td>\n",
       "      <td>UCLA</td>\n",
       "      <td>44.0</td>\n",
       "      <td>0</td>\n",
       "    </tr>\n",
       "  </tbody>\n",
       "</table>\n",
       "</div>"
      ],
      "text/plain": [
       "   opta_id   T  E             opta_name            draft_name  \\\n",
       "0    78019  12  1           Aaron Maund           Aaron Maund   \n",
       "1   110615  60  1           Alec Purdie           Alec Purdie   \n",
       "2   110581  15  1          Andrew Duran          Andrew Duran   \n",
       "3   110665   8  1  Andrew Jean-Baptiste  Andrew Jean-Baptiste   \n",
       "4   110618  44  1             Andy Rose             Andy Rose   \n",
       "\n",
       "              ncaa_name  season position      school  pick  generation_adidas  \n",
       "0           Aaron Maund    2012        D  Notre Dame  12.0                  0  \n",
       "1           Alec Purdie    2012        M     Indiana  60.0                  0  \n",
       "2          Andrew Duran    2012        D   Creighton  15.0                  0  \n",
       "3  Andrew Jean-Baptiste    2012        D       UConn   8.0                  1  \n",
       "4             Andy Rose    2012        M        UCLA  44.0                  0  "
      ]
     },
     "execution_count": 3,
     "metadata": {},
     "output_type": "execute_result"
    }
   ],
   "source": [
    "player_info.head()"
   ]
  },
  {
   "cell_type": "code",
   "execution_count": 4,
   "metadata": {
    "collapsed": true
   },
   "outputs": [],
   "source": [
    "def get_name(string):\n",
    "    split_list = str.split(string, \", \")\n",
    "    name = split_list[1] + \" \" + split_list[0]\n",
    "    return name"
   ]
  },
  {
   "cell_type": "markdown",
   "metadata": {},
   "source": [
    "## 2014"
   ]
  },
  {
   "cell_type": "code",
   "execution_count": 5,
   "metadata": {
    "collapsed": true
   },
   "outputs": [],
   "source": [
    "stats14 = pd.read_table(\"https://raw.githubusercontent.com/octonion/soccer-m/master/ncaa_pbp/csv/ncaa_player_summaries_2014_1.csv\")"
   ]
  },
  {
   "cell_type": "code",
   "execution_count": 6,
   "metadata": {},
   "outputs": [
    {
     "data": {
      "text/html": [
       "<div>\n",
       "<table border=\"1\" class=\"dataframe\">\n",
       "  <thead>\n",
       "    <tr style=\"text-align: right;\">\n",
       "      <th></th>\n",
       "      <th>year</th>\n",
       "      <th>year_id</th>\n",
       "      <th>division_id</th>\n",
       "      <th>team_id</th>\n",
       "      <th>team_name</th>\n",
       "      <th>jersey_number</th>\n",
       "      <th>player_id</th>\n",
       "      <th>player_name</th>\n",
       "      <th>player_url</th>\n",
       "      <th>class_year</th>\n",
       "      <th>...</th>\n",
       "      <th>saves</th>\n",
       "      <th>save_pct</th>\n",
       "      <th>shutouts</th>\n",
       "      <th>g_wins</th>\n",
       "      <th>g_loss</th>\n",
       "      <th>d_saves</th>\n",
       "      <th>corners</th>\n",
       "      <th>ps</th>\n",
       "      <th>psa</th>\n",
       "      <th>gwg</th>\n",
       "    </tr>\n",
       "  </thead>\n",
       "  <tbody>\n",
       "    <tr>\n",
       "      <th>0</th>\n",
       "      <td>2014</td>\n",
       "      <td>11480</td>\n",
       "      <td>1</td>\n",
       "      <td>721</td>\n",
       "      <td>Air Force</td>\n",
       "      <td>5</td>\n",
       "      <td>1254688</td>\n",
       "      <td>Frazier, Alex</td>\n",
       "      <td>http://stats.ncaa.org/player?game_sport_year_c...</td>\n",
       "      <td>Jr</td>\n",
       "      <td>...</td>\n",
       "      <td></td>\n",
       "      <td>NaN</td>\n",
       "      <td></td>\n",
       "      <td></td>\n",
       "      <td></td>\n",
       "      <td></td>\n",
       "      <td></td>\n",
       "      <td></td>\n",
       "      <td></td>\n",
       "      <td></td>\n",
       "    </tr>\n",
       "    <tr>\n",
       "      <th>1</th>\n",
       "      <td>2014</td>\n",
       "      <td>11480</td>\n",
       "      <td>1</td>\n",
       "      <td>721</td>\n",
       "      <td>Air Force</td>\n",
       "      <td>6</td>\n",
       "      <td>1131640</td>\n",
       "      <td>Downey, Caleb</td>\n",
       "      <td>http://stats.ncaa.org/player?game_sport_year_c...</td>\n",
       "      <td>Sr</td>\n",
       "      <td>...</td>\n",
       "      <td></td>\n",
       "      <td>NaN</td>\n",
       "      <td></td>\n",
       "      <td></td>\n",
       "      <td></td>\n",
       "      <td></td>\n",
       "      <td></td>\n",
       "      <td></td>\n",
       "      <td></td>\n",
       "      <td></td>\n",
       "    </tr>\n",
       "    <tr>\n",
       "      <th>2</th>\n",
       "      <td>2014</td>\n",
       "      <td>11480</td>\n",
       "      <td>1</td>\n",
       "      <td>721</td>\n",
       "      <td>Air Force</td>\n",
       "      <td>14</td>\n",
       "      <td>1465075</td>\n",
       "      <td>Duley, Cameron</td>\n",
       "      <td>http://stats.ncaa.org/player?game_sport_year_c...</td>\n",
       "      <td>Fr</td>\n",
       "      <td>...</td>\n",
       "      <td></td>\n",
       "      <td>NaN</td>\n",
       "      <td></td>\n",
       "      <td></td>\n",
       "      <td></td>\n",
       "      <td></td>\n",
       "      <td></td>\n",
       "      <td></td>\n",
       "      <td></td>\n",
       "      <td></td>\n",
       "    </tr>\n",
       "    <tr>\n",
       "      <th>3</th>\n",
       "      <td>2014</td>\n",
       "      <td>11480</td>\n",
       "      <td>1</td>\n",
       "      <td>721</td>\n",
       "      <td>Air Force</td>\n",
       "      <td>4</td>\n",
       "      <td>1358580</td>\n",
       "      <td>Kern, Ben</td>\n",
       "      <td>http://stats.ncaa.org/player?game_sport_year_c...</td>\n",
       "      <td>So</td>\n",
       "      <td>...</td>\n",
       "      <td></td>\n",
       "      <td>NaN</td>\n",
       "      <td></td>\n",
       "      <td></td>\n",
       "      <td></td>\n",
       "      <td></td>\n",
       "      <td></td>\n",
       "      <td></td>\n",
       "      <td></td>\n",
       "      <td></td>\n",
       "    </tr>\n",
       "    <tr>\n",
       "      <th>4</th>\n",
       "      <td>2014</td>\n",
       "      <td>11480</td>\n",
       "      <td>1</td>\n",
       "      <td>721</td>\n",
       "      <td>Air Force</td>\n",
       "      <td>3</td>\n",
       "      <td>1251026</td>\n",
       "      <td>Payne, Matt</td>\n",
       "      <td>http://stats.ncaa.org/player?game_sport_year_c...</td>\n",
       "      <td>Jr</td>\n",
       "      <td>...</td>\n",
       "      <td></td>\n",
       "      <td>NaN</td>\n",
       "      <td></td>\n",
       "      <td></td>\n",
       "      <td></td>\n",
       "      <td></td>\n",
       "      <td></td>\n",
       "      <td></td>\n",
       "      <td></td>\n",
       "      <td></td>\n",
       "    </tr>\n",
       "  </tbody>\n",
       "</table>\n",
       "<p>5 rows × 35 columns</p>\n",
       "</div>"
      ],
      "text/plain": [
       "   year  year_id  division_id  team_id  team_name  jersey_number  player_id  \\\n",
       "0  2014    11480            1      721  Air Force              5    1254688   \n",
       "1  2014    11480            1      721  Air Force              6    1131640   \n",
       "2  2014    11480            1      721  Air Force             14    1465075   \n",
       "3  2014    11480            1      721  Air Force              4    1358580   \n",
       "4  2014    11480            1      721  Air Force              3    1251026   \n",
       "\n",
       "      player_name                                         player_url  \\\n",
       "0   Frazier, Alex  http://stats.ncaa.org/player?game_sport_year_c...   \n",
       "1   Downey, Caleb  http://stats.ncaa.org/player?game_sport_year_c...   \n",
       "2  Duley, Cameron  http://stats.ncaa.org/player?game_sport_year_c...   \n",
       "3       Kern, Ben  http://stats.ncaa.org/player?game_sport_year_c...   \n",
       "4     Payne, Matt  http://stats.ncaa.org/player?game_sport_year_c...   \n",
       "\n",
       "  class_year ...  saves  save_pct shutouts g_wins  g_loss d_saves corners ps  \\\n",
       "0         Jr ...              NaN                                              \n",
       "1         Sr ...              NaN                                              \n",
       "2         Fr ...              NaN                                              \n",
       "3         So ...              NaN                                              \n",
       "4         Jr ...              NaN                                              \n",
       "\n",
       "  psa gwg  \n",
       "0          \n",
       "1          \n",
       "2          \n",
       "3          \n",
       "4          \n",
       "\n",
       "[5 rows x 35 columns]"
      ]
     },
     "execution_count": 6,
     "metadata": {},
     "output_type": "execute_result"
    }
   ],
   "source": [
    "stats14.head()"
   ]
  },
  {
   "cell_type": "code",
   "execution_count": 7,
   "metadata": {},
   "outputs": [],
   "source": [
    "stats14['ncaa_name'] = stats14.player_name.apply(lambda x: get_name(x))"
   ]
  },
  {
   "cell_type": "code",
   "execution_count": 8,
   "metadata": {},
   "outputs": [],
   "source": [
    "info14 = player_info[player_info.season == 2014][['ncaa_name', 'school', 'season']]"
   ]
  },
  {
   "cell_type": "code",
   "execution_count": 9,
   "metadata": {},
   "outputs": [],
   "source": [
    "m = pd.merge(info14, stats14, on='ncaa_name')"
   ]
  },
  {
   "cell_type": "code",
   "execution_count": 10,
   "metadata": {},
   "outputs": [
    {
     "data": {
      "text/plain": [
       "(54, 38)"
      ]
     },
     "execution_count": 10,
     "metadata": {},
     "output_type": "execute_result"
    }
   ],
   "source": [
    "m.shape"
   ]
  },
  {
   "cell_type": "code",
   "execution_count": 11,
   "metadata": {},
   "outputs": [
    {
     "data": {
      "text/plain": [
       "(63, 3)"
      ]
     },
     "execution_count": 11,
     "metadata": {},
     "output_type": "execute_result"
    }
   ],
   "source": [
    "info14.shape"
   ]
  },
  {
   "cell_type": "code",
   "execution_count": 12,
   "metadata": {},
   "outputs": [
    {
     "data": {
      "text/plain": [
       "['Oliver Gore',\n",
       " 'Ronny Santos Mendoza',\n",
       " 'Pierre Omanga',\n",
       " 'Quinton Christina',\n",
       " 'Tesho Akindele',\n",
       " 'Richie Marquez',\n",
       " 'Joshua Wood',\n",
       " 'Stefano Rijssel',\n",
       " 'Andre Lewis']"
      ]
     },
     "execution_count": 12,
     "metadata": {},
     "output_type": "execute_result"
    }
   ],
   "source": [
    "list(set(info14.ncaa_name) - set(m.ncaa_name))"
   ]
  },
  {
   "cell_type": "code",
   "execution_count": 13,
   "metadata": {
    "collapsed": true
   },
   "outputs": [],
   "source": [
    "m.to_csv(\"ncaa_2014_stats.csv\")"
   ]
  },
  {
   "cell_type": "markdown",
   "metadata": {},
   "source": [
    "## 2015"
   ]
  },
  {
   "cell_type": "code",
   "execution_count": 14,
   "metadata": {},
   "outputs": [],
   "source": [
    "stats15 = pd.read_table(\"https://raw.githubusercontent.com/octonion/soccer-m/master/ncaa_pbp/csv/ncaa_player_summaries_2015_1.csv\")"
   ]
  },
  {
   "cell_type": "code",
   "execution_count": 15,
   "metadata": {},
   "outputs": [
    {
     "data": {
      "text/html": [
       "<div>\n",
       "<table border=\"1\" class=\"dataframe\">\n",
       "  <thead>\n",
       "    <tr style=\"text-align: right;\">\n",
       "      <th></th>\n",
       "      <th>year</th>\n",
       "      <th>year_id</th>\n",
       "      <th>division_id</th>\n",
       "      <th>team_id</th>\n",
       "      <th>team_name</th>\n",
       "      <th>jersey_number</th>\n",
       "      <th>player_id</th>\n",
       "      <th>player_name</th>\n",
       "      <th>player_url</th>\n",
       "      <th>class_year</th>\n",
       "      <th>...</th>\n",
       "      <th>saves</th>\n",
       "      <th>save_pct</th>\n",
       "      <th>shutouts</th>\n",
       "      <th>g_wins</th>\n",
       "      <th>g_loss</th>\n",
       "      <th>d_saves</th>\n",
       "      <th>corners</th>\n",
       "      <th>ps</th>\n",
       "      <th>psa</th>\n",
       "      <th>gwg</th>\n",
       "    </tr>\n",
       "  </thead>\n",
       "  <tbody>\n",
       "    <tr>\n",
       "      <th>0</th>\n",
       "      <td>2015</td>\n",
       "      <td>11701</td>\n",
       "      <td>1</td>\n",
       "      <td>721</td>\n",
       "      <td>Air Force</td>\n",
       "      <td>17</td>\n",
       "      <td>1601227</td>\n",
       "      <td>Welch, Luke</td>\n",
       "      <td>http://stats.ncaa.org/player?game_sport_year_c...</td>\n",
       "      <td>Sr</td>\n",
       "      <td>...</td>\n",
       "      <td></td>\n",
       "      <td>NaN</td>\n",
       "      <td></td>\n",
       "      <td></td>\n",
       "      <td></td>\n",
       "      <td></td>\n",
       "      <td></td>\n",
       "      <td></td>\n",
       "      <td></td>\n",
       "      <td></td>\n",
       "    </tr>\n",
       "    <tr>\n",
       "      <th>1</th>\n",
       "      <td>2015</td>\n",
       "      <td>11701</td>\n",
       "      <td>1</td>\n",
       "      <td>721</td>\n",
       "      <td>Air Force</td>\n",
       "      <td>3</td>\n",
       "      <td>1591890</td>\n",
       "      <td>Pujats, Trey</td>\n",
       "      <td>http://stats.ncaa.org/player?game_sport_year_c...</td>\n",
       "      <td>Fr</td>\n",
       "      <td>...</td>\n",
       "      <td></td>\n",
       "      <td>NaN</td>\n",
       "      <td></td>\n",
       "      <td></td>\n",
       "      <td></td>\n",
       "      <td></td>\n",
       "      <td></td>\n",
       "      <td></td>\n",
       "      <td></td>\n",
       "      <td></td>\n",
       "    </tr>\n",
       "    <tr>\n",
       "      <th>2</th>\n",
       "      <td>2015</td>\n",
       "      <td>11701</td>\n",
       "      <td>1</td>\n",
       "      <td>721</td>\n",
       "      <td>Air Force</td>\n",
       "      <td>8</td>\n",
       "      <td>1509245</td>\n",
       "      <td>Jensen, Gus</td>\n",
       "      <td>http://stats.ncaa.org/player?game_sport_year_c...</td>\n",
       "      <td>Fr</td>\n",
       "      <td>...</td>\n",
       "      <td></td>\n",
       "      <td>NaN</td>\n",
       "      <td></td>\n",
       "      <td></td>\n",
       "      <td></td>\n",
       "      <td></td>\n",
       "      <td></td>\n",
       "      <td></td>\n",
       "      <td></td>\n",
       "      <td></td>\n",
       "    </tr>\n",
       "    <tr>\n",
       "      <th>3</th>\n",
       "      <td>2015</td>\n",
       "      <td>11701</td>\n",
       "      <td>1</td>\n",
       "      <td>721</td>\n",
       "      <td>Air Force</td>\n",
       "      <td>21</td>\n",
       "      <td>1465080</td>\n",
       "      <td>Axhoj, Tucker</td>\n",
       "      <td>http://stats.ncaa.org/player?game_sport_year_c...</td>\n",
       "      <td>So</td>\n",
       "      <td>...</td>\n",
       "      <td></td>\n",
       "      <td>NaN</td>\n",
       "      <td></td>\n",
       "      <td></td>\n",
       "      <td></td>\n",
       "      <td></td>\n",
       "      <td></td>\n",
       "      <td></td>\n",
       "      <td></td>\n",
       "      <td></td>\n",
       "    </tr>\n",
       "    <tr>\n",
       "      <th>4</th>\n",
       "      <td>2015</td>\n",
       "      <td>11701</td>\n",
       "      <td>1</td>\n",
       "      <td>721</td>\n",
       "      <td>Air Force</td>\n",
       "      <td>18</td>\n",
       "      <td>1465077</td>\n",
       "      <td>Esparza, A.J.</td>\n",
       "      <td>http://stats.ncaa.org/player?game_sport_year_c...</td>\n",
       "      <td>So</td>\n",
       "      <td>...</td>\n",
       "      <td></td>\n",
       "      <td>NaN</td>\n",
       "      <td></td>\n",
       "      <td></td>\n",
       "      <td></td>\n",
       "      <td></td>\n",
       "      <td></td>\n",
       "      <td></td>\n",
       "      <td></td>\n",
       "      <td>1</td>\n",
       "    </tr>\n",
       "  </tbody>\n",
       "</table>\n",
       "<p>5 rows × 35 columns</p>\n",
       "</div>"
      ],
      "text/plain": [
       "   year  year_id  division_id  team_id  team_name jersey_number  player_id  \\\n",
       "0  2015    11701            1      721  Air Force            17    1601227   \n",
       "1  2015    11701            1      721  Air Force             3    1591890   \n",
       "2  2015    11701            1      721  Air Force             8    1509245   \n",
       "3  2015    11701            1      721  Air Force            21    1465080   \n",
       "4  2015    11701            1      721  Air Force            18    1465077   \n",
       "\n",
       "     player_name                                         player_url  \\\n",
       "0    Welch, Luke  http://stats.ncaa.org/player?game_sport_year_c...   \n",
       "1   Pujats, Trey  http://stats.ncaa.org/player?game_sport_year_c...   \n",
       "2    Jensen, Gus  http://stats.ncaa.org/player?game_sport_year_c...   \n",
       "3  Axhoj, Tucker  http://stats.ncaa.org/player?game_sport_year_c...   \n",
       "4  Esparza, A.J.  http://stats.ncaa.org/player?game_sport_year_c...   \n",
       "\n",
       "  class_year ...  saves  save_pct shutouts g_wins  g_loss d_saves corners ps  \\\n",
       "0         Sr ...              NaN                                              \n",
       "1         Fr ...              NaN                                              \n",
       "2         Fr ...              NaN                                              \n",
       "3         So ...              NaN                                              \n",
       "4         So ...              NaN                                              \n",
       "\n",
       "  psa gwg  \n",
       "0          \n",
       "1          \n",
       "2          \n",
       "3          \n",
       "4       1  \n",
       "\n",
       "[5 rows x 35 columns]"
      ]
     },
     "execution_count": 15,
     "metadata": {},
     "output_type": "execute_result"
    }
   ],
   "source": [
    "stats15.head()"
   ]
  },
  {
   "cell_type": "code",
   "execution_count": 16,
   "metadata": {
    "collapsed": true
   },
   "outputs": [],
   "source": [
    "stats15['ncaa_name'] = stats15.player_name.apply(lambda x: get_name(x))"
   ]
  },
  {
   "cell_type": "code",
   "execution_count": 17,
   "metadata": {
    "collapsed": true
   },
   "outputs": [],
   "source": [
    "info15 = player_info[player_info.season == 2015][['ncaa_name', 'school', 'season']]"
   ]
  },
  {
   "cell_type": "code",
   "execution_count": 18,
   "metadata": {
    "collapsed": true
   },
   "outputs": [],
   "source": [
    "m = pd.merge(info15, stats15, on='ncaa_name')"
   ]
  },
  {
   "cell_type": "code",
   "execution_count": 19,
   "metadata": {},
   "outputs": [
    {
     "data": {
      "text/plain": [
       "(61, 38)"
      ]
     },
     "execution_count": 19,
     "metadata": {},
     "output_type": "execute_result"
    }
   ],
   "source": [
    "m.shape"
   ]
  },
  {
   "cell_type": "code",
   "execution_count": 20,
   "metadata": {},
   "outputs": [
    {
     "data": {
      "text/plain": [
       "(69, 3)"
      ]
     },
     "execution_count": 20,
     "metadata": {},
     "output_type": "execute_result"
    }
   ],
   "source": [
    "info15.shape"
   ]
  },
  {
   "cell_type": "code",
   "execution_count": 21,
   "metadata": {},
   "outputs": [
    {
     "data": {
      "text/plain": [
       "['Adrian Reta',\n",
       " 'Dzenan Catic',\n",
       " 'Matias Acuna',\n",
       " 'Janeil Hoilett',\n",
       " 'Alberto Riascos',\n",
       " 'Vladimir Hood',\n",
       " 'Adria Marco Beso',\n",
       " 'Jean Carlos Moscoso']"
      ]
     },
     "execution_count": 21,
     "metadata": {},
     "output_type": "execute_result"
    }
   ],
   "source": [
    "list(set(info15.ncaa_name) - set(m.ncaa_name))"
   ]
  },
  {
   "cell_type": "code",
   "execution_count": 22,
   "metadata": {
    "collapsed": true
   },
   "outputs": [],
   "source": [
    "m.to_csv(\"ncaa_2015_stats.csv\")"
   ]
  },
  {
   "cell_type": "markdown",
   "metadata": {},
   "source": [
    "## 2016"
   ]
  },
  {
   "cell_type": "code",
   "execution_count": 23,
   "metadata": {
    "collapsed": true
   },
   "outputs": [],
   "source": [
    "stats16 = pd.read_table(\"https://raw.githubusercontent.com/octonion/soccer-m/master/ncaa_pbp/csv/ncaa_player_summaries_2016_1.csv\")"
   ]
  },
  {
   "cell_type": "code",
   "execution_count": 24,
   "metadata": {},
   "outputs": [
    {
     "data": {
      "text/html": [
       "<div>\n",
       "<table border=\"1\" class=\"dataframe\">\n",
       "  <thead>\n",
       "    <tr style=\"text-align: right;\">\n",
       "      <th></th>\n",
       "      <th>year</th>\n",
       "      <th>year_id</th>\n",
       "      <th>division_id</th>\n",
       "      <th>team_id</th>\n",
       "      <th>team_name</th>\n",
       "      <th>jersey_number</th>\n",
       "      <th>player_id</th>\n",
       "      <th>player_name</th>\n",
       "      <th>player_url</th>\n",
       "      <th>class_year</th>\n",
       "      <th>...</th>\n",
       "      <th>saves</th>\n",
       "      <th>save_pct</th>\n",
       "      <th>shutouts</th>\n",
       "      <th>g_wins</th>\n",
       "      <th>g_loss</th>\n",
       "      <th>d_saves</th>\n",
       "      <th>corners</th>\n",
       "      <th>ps</th>\n",
       "      <th>psa</th>\n",
       "      <th>gwg</th>\n",
       "    </tr>\n",
       "  </thead>\n",
       "  <tbody>\n",
       "    <tr>\n",
       "      <th>0</th>\n",
       "      <td>2016</td>\n",
       "      <td>12241</td>\n",
       "      <td>1</td>\n",
       "      <td>721</td>\n",
       "      <td>Air Force</td>\n",
       "      <td>6</td>\n",
       "      <td>1509245</td>\n",
       "      <td>Jensen, Gus</td>\n",
       "      <td>http://stats.ncaa.org/player/index?game_sport_...</td>\n",
       "      <td>So</td>\n",
       "      <td>...</td>\n",
       "      <td>NaN</td>\n",
       "      <td>NaN</td>\n",
       "      <td>NaN</td>\n",
       "      <td>NaN</td>\n",
       "      <td>NaN</td>\n",
       "      <td>NaN</td>\n",
       "      <td>NaN</td>\n",
       "      <td>NaN</td>\n",
       "      <td>NaN</td>\n",
       "      <td>NaN</td>\n",
       "    </tr>\n",
       "    <tr>\n",
       "      <th>1</th>\n",
       "      <td>2016</td>\n",
       "      <td>12241</td>\n",
       "      <td>1</td>\n",
       "      <td>721</td>\n",
       "      <td>Air Force</td>\n",
       "      <td>3</td>\n",
       "      <td>1591890</td>\n",
       "      <td>Pujats, Trey</td>\n",
       "      <td>http://stats.ncaa.org/player/index?game_sport_...</td>\n",
       "      <td>So</td>\n",
       "      <td>...</td>\n",
       "      <td>NaN</td>\n",
       "      <td>NaN</td>\n",
       "      <td>NaN</td>\n",
       "      <td>NaN</td>\n",
       "      <td>NaN</td>\n",
       "      <td>NaN</td>\n",
       "      <td>NaN</td>\n",
       "      <td>NaN</td>\n",
       "      <td>NaN</td>\n",
       "      <td>NaN</td>\n",
       "    </tr>\n",
       "    <tr>\n",
       "      <th>2</th>\n",
       "      <td>2016</td>\n",
       "      <td>12241</td>\n",
       "      <td>1</td>\n",
       "      <td>721</td>\n",
       "      <td>Air Force</td>\n",
       "      <td>18</td>\n",
       "      <td>1465077</td>\n",
       "      <td>Esparza, A.J.</td>\n",
       "      <td>http://stats.ncaa.org/player/index?game_sport_...</td>\n",
       "      <td>Jr</td>\n",
       "      <td>...</td>\n",
       "      <td>NaN</td>\n",
       "      <td>NaN</td>\n",
       "      <td>NaN</td>\n",
       "      <td>NaN</td>\n",
       "      <td>NaN</td>\n",
       "      <td>NaN</td>\n",
       "      <td>NaN</td>\n",
       "      <td>NaN</td>\n",
       "      <td>NaN</td>\n",
       "      <td>1.0</td>\n",
       "    </tr>\n",
       "    <tr>\n",
       "      <th>3</th>\n",
       "      <td>2016</td>\n",
       "      <td>12241</td>\n",
       "      <td>1</td>\n",
       "      <td>721</td>\n",
       "      <td>Air Force</td>\n",
       "      <td>16</td>\n",
       "      <td>1465076</td>\n",
       "      <td>Hill, Zach</td>\n",
       "      <td>http://stats.ncaa.org/player/index?game_sport_...</td>\n",
       "      <td>Sr</td>\n",
       "      <td>...</td>\n",
       "      <td>NaN</td>\n",
       "      <td>NaN</td>\n",
       "      <td>NaN</td>\n",
       "      <td>NaN</td>\n",
       "      <td>NaN</td>\n",
       "      <td>NaN</td>\n",
       "      <td>NaN</td>\n",
       "      <td>NaN</td>\n",
       "      <td>NaN</td>\n",
       "      <td>2.0</td>\n",
       "    </tr>\n",
       "    <tr>\n",
       "      <th>4</th>\n",
       "      <td>2016</td>\n",
       "      <td>12241</td>\n",
       "      <td>1</td>\n",
       "      <td>721</td>\n",
       "      <td>Air Force</td>\n",
       "      <td>7</td>\n",
       "      <td>1692917</td>\n",
       "      <td>Bone, Tucker</td>\n",
       "      <td>http://stats.ncaa.org/player/index?game_sport_...</td>\n",
       "      <td>Fr</td>\n",
       "      <td>...</td>\n",
       "      <td>NaN</td>\n",
       "      <td>NaN</td>\n",
       "      <td>NaN</td>\n",
       "      <td>NaN</td>\n",
       "      <td>NaN</td>\n",
       "      <td>NaN</td>\n",
       "      <td>NaN</td>\n",
       "      <td>NaN</td>\n",
       "      <td>NaN</td>\n",
       "      <td>1.0</td>\n",
       "    </tr>\n",
       "  </tbody>\n",
       "</table>\n",
       "<p>5 rows × 35 columns</p>\n",
       "</div>"
      ],
      "text/plain": [
       "   year  year_id  division_id  team_id  team_name  jersey_number  player_id  \\\n",
       "0  2016    12241            1      721  Air Force              6    1509245   \n",
       "1  2016    12241            1      721  Air Force              3    1591890   \n",
       "2  2016    12241            1      721  Air Force             18    1465077   \n",
       "3  2016    12241            1      721  Air Force             16    1465076   \n",
       "4  2016    12241            1      721  Air Force              7    1692917   \n",
       "\n",
       "     player_name                                         player_url  \\\n",
       "0    Jensen, Gus  http://stats.ncaa.org/player/index?game_sport_...   \n",
       "1   Pujats, Trey  http://stats.ncaa.org/player/index?game_sport_...   \n",
       "2  Esparza, A.J.  http://stats.ncaa.org/player/index?game_sport_...   \n",
       "3     Hill, Zach  http://stats.ncaa.org/player/index?game_sport_...   \n",
       "4   Bone, Tucker  http://stats.ncaa.org/player/index?game_sport_...   \n",
       "\n",
       "  class_year ...   saves  save_pct  shutouts  g_wins  g_loss  d_saves  \\\n",
       "0         So ...     NaN       NaN       NaN     NaN     NaN      NaN   \n",
       "1         So ...     NaN       NaN       NaN     NaN     NaN      NaN   \n",
       "2         Jr ...     NaN       NaN       NaN     NaN     NaN      NaN   \n",
       "3         Sr ...     NaN       NaN       NaN     NaN     NaN      NaN   \n",
       "4         Fr ...     NaN       NaN       NaN     NaN     NaN      NaN   \n",
       "\n",
       "   corners  ps  psa  gwg  \n",
       "0      NaN NaN  NaN  NaN  \n",
       "1      NaN NaN  NaN  NaN  \n",
       "2      NaN NaN  NaN  1.0  \n",
       "3      NaN NaN  NaN  2.0  \n",
       "4      NaN NaN  NaN  1.0  \n",
       "\n",
       "[5 rows x 35 columns]"
      ]
     },
     "execution_count": 24,
     "metadata": {},
     "output_type": "execute_result"
    }
   ],
   "source": [
    "stats16.head()"
   ]
  },
  {
   "cell_type": "code",
   "execution_count": 25,
   "metadata": {
    "collapsed": true
   },
   "outputs": [],
   "source": [
    "stats16['ncaa_name'] = stats16.player_name.apply(lambda x: get_name(x))"
   ]
  },
  {
   "cell_type": "code",
   "execution_count": 26,
   "metadata": {
    "collapsed": true
   },
   "outputs": [],
   "source": [
    "info16 = player_info[player_info.season == 2016][['ncaa_name', 'school', 'season']]"
   ]
  },
  {
   "cell_type": "code",
   "execution_count": 27,
   "metadata": {},
   "outputs": [],
   "source": [
    "m = pd.merge(info16, stats16, on='ncaa_name')"
   ]
  },
  {
   "cell_type": "code",
   "execution_count": 28,
   "metadata": {},
   "outputs": [
    {
     "data": {
      "text/plain": [
       "(62, 38)"
      ]
     },
     "execution_count": 28,
     "metadata": {},
     "output_type": "execute_result"
    }
   ],
   "source": [
    "m.shape"
   ]
  },
  {
   "cell_type": "code",
   "execution_count": 29,
   "metadata": {},
   "outputs": [
    {
     "data": {
      "text/plain": [
       "(71, 3)"
      ]
     },
     "execution_count": 29,
     "metadata": {},
     "output_type": "execute_result"
    }
   ],
   "source": [
    "info16.shape"
   ]
  },
  {
   "cell_type": "code",
   "execution_count": 30,
   "metadata": {},
   "outputs": [
    {
     "data": {
      "text/plain": [
       "['Elias Gomez',\n",
       " 'James Nortey',\n",
       " 'Thomas Libiih',\n",
       " 'Jorginho James',\n",
       " 'Jesus Fared',\n",
       " 'Souheib Dhaflaoui',\n",
       " 'Tony Alfaro',\n",
       " 'Christopher Hellmann',\n",
       " 'Kevaughn Frater']"
      ]
     },
     "execution_count": 30,
     "metadata": {},
     "output_type": "execute_result"
    }
   ],
   "source": [
    "list(set(info16.ncaa_name) - set(m.ncaa_name))"
   ]
  },
  {
   "cell_type": "code",
   "execution_count": 31,
   "metadata": {
    "collapsed": true
   },
   "outputs": [],
   "source": [
    "m.to_csv(\"ncaa_2016_stats.csv\")"
   ]
  },
  {
   "cell_type": "markdown",
   "metadata": {},
   "source": [
    "## 2017"
   ]
  },
  {
   "cell_type": "code",
   "execution_count": 32,
   "metadata": {
    "collapsed": true
   },
   "outputs": [],
   "source": [
    "stats17 = pd.read_table(\"https://raw.githubusercontent.com/octonion/soccer-m/master/ncaa_pbp/csv/ncaa_player_summaries_2017_1.csv\")"
   ]
  },
  {
   "cell_type": "code",
   "execution_count": 33,
   "metadata": {},
   "outputs": [],
   "source": [
    "stats17 = stats17[~((stats17.player_name == 'Robinson, Miles') & (stats17.team_name == 'Santa Clara'))]"
   ]
  },
  {
   "cell_type": "code",
   "execution_count": 34,
   "metadata": {},
   "outputs": [
    {
     "data": {
      "text/html": [
       "<div>\n",
       "<table border=\"1\" class=\"dataframe\">\n",
       "  <thead>\n",
       "    <tr style=\"text-align: right;\">\n",
       "      <th></th>\n",
       "      <th>year</th>\n",
       "      <th>year_id</th>\n",
       "      <th>division_id</th>\n",
       "      <th>team_id</th>\n",
       "      <th>team_name</th>\n",
       "      <th>jersey_number</th>\n",
       "      <th>player_id</th>\n",
       "      <th>player_name</th>\n",
       "      <th>player_url</th>\n",
       "      <th>class_year</th>\n",
       "      <th>...</th>\n",
       "      <th>saves</th>\n",
       "      <th>save_pct</th>\n",
       "      <th>shutouts</th>\n",
       "      <th>g_wins</th>\n",
       "      <th>g_loss</th>\n",
       "      <th>d_saves</th>\n",
       "      <th>corners</th>\n",
       "      <th>ps</th>\n",
       "      <th>psa</th>\n",
       "      <th>gwg</th>\n",
       "    </tr>\n",
       "  </thead>\n",
       "  <tbody>\n",
       "    <tr>\n",
       "      <th>0</th>\n",
       "      <td>2017</td>\n",
       "      <td>12440</td>\n",
       "      <td>1</td>\n",
       "      <td>721</td>\n",
       "      <td>Air Force</td>\n",
       "      <td>19</td>\n",
       "      <td>1812082</td>\n",
       "      <td>Yarnell, Jacob</td>\n",
       "      <td>http://stats.ncaa.org/player/index?game_sport_...</td>\n",
       "      <td>NaN</td>\n",
       "      <td>...</td>\n",
       "      <td>NaN</td>\n",
       "      <td>NaN</td>\n",
       "      <td>NaN</td>\n",
       "      <td>NaN</td>\n",
       "      <td>NaN</td>\n",
       "      <td>NaN</td>\n",
       "      <td>NaN</td>\n",
       "      <td>NaN</td>\n",
       "      <td>NaN</td>\n",
       "      <td>1.0</td>\n",
       "    </tr>\n",
       "    <tr>\n",
       "      <th>1</th>\n",
       "      <td>2017</td>\n",
       "      <td>12440</td>\n",
       "      <td>1</td>\n",
       "      <td>721</td>\n",
       "      <td>Air Force</td>\n",
       "      <td>4</td>\n",
       "      <td>1465070</td>\n",
       "      <td>Ward, Ryan</td>\n",
       "      <td>http://stats.ncaa.org/player/index?game_sport_...</td>\n",
       "      <td>Sr</td>\n",
       "      <td>...</td>\n",
       "      <td>NaN</td>\n",
       "      <td>NaN</td>\n",
       "      <td>NaN</td>\n",
       "      <td>NaN</td>\n",
       "      <td>NaN</td>\n",
       "      <td>NaN</td>\n",
       "      <td>NaN</td>\n",
       "      <td>NaN</td>\n",
       "      <td>NaN</td>\n",
       "      <td>NaN</td>\n",
       "    </tr>\n",
       "    <tr>\n",
       "      <th>2</th>\n",
       "      <td>2017</td>\n",
       "      <td>12440</td>\n",
       "      <td>1</td>\n",
       "      <td>721</td>\n",
       "      <td>Air Force</td>\n",
       "      <td>18</td>\n",
       "      <td>1465077</td>\n",
       "      <td>Esparza, A.J.</td>\n",
       "      <td>http://stats.ncaa.org/player/index?game_sport_...</td>\n",
       "      <td>Sr</td>\n",
       "      <td>...</td>\n",
       "      <td>NaN</td>\n",
       "      <td>NaN</td>\n",
       "      <td>NaN</td>\n",
       "      <td>NaN</td>\n",
       "      <td>NaN</td>\n",
       "      <td>NaN</td>\n",
       "      <td>NaN</td>\n",
       "      <td>NaN</td>\n",
       "      <td>NaN</td>\n",
       "      <td>1.0</td>\n",
       "    </tr>\n",
       "    <tr>\n",
       "      <th>3</th>\n",
       "      <td>2017</td>\n",
       "      <td>12440</td>\n",
       "      <td>1</td>\n",
       "      <td>721</td>\n",
       "      <td>Air Force</td>\n",
       "      <td>21</td>\n",
       "      <td>1465080</td>\n",
       "      <td>Axhoj, Tucker</td>\n",
       "      <td>http://stats.ncaa.org/player/index?game_sport_...</td>\n",
       "      <td>Sr</td>\n",
       "      <td>...</td>\n",
       "      <td>NaN</td>\n",
       "      <td>NaN</td>\n",
       "      <td>NaN</td>\n",
       "      <td>NaN</td>\n",
       "      <td>NaN</td>\n",
       "      <td>NaN</td>\n",
       "      <td>NaN</td>\n",
       "      <td>NaN</td>\n",
       "      <td>NaN</td>\n",
       "      <td>1.0</td>\n",
       "    </tr>\n",
       "    <tr>\n",
       "      <th>4</th>\n",
       "      <td>2017</td>\n",
       "      <td>12440</td>\n",
       "      <td>1</td>\n",
       "      <td>721</td>\n",
       "      <td>Air Force</td>\n",
       "      <td>7</td>\n",
       "      <td>1692917</td>\n",
       "      <td>Bone, Tucker</td>\n",
       "      <td>http://stats.ncaa.org/player/index?game_sport_...</td>\n",
       "      <td>So</td>\n",
       "      <td>...</td>\n",
       "      <td>NaN</td>\n",
       "      <td>NaN</td>\n",
       "      <td>NaN</td>\n",
       "      <td>NaN</td>\n",
       "      <td>NaN</td>\n",
       "      <td>NaN</td>\n",
       "      <td>NaN</td>\n",
       "      <td>NaN</td>\n",
       "      <td>NaN</td>\n",
       "      <td>2.0</td>\n",
       "    </tr>\n",
       "  </tbody>\n",
       "</table>\n",
       "<p>5 rows × 35 columns</p>\n",
       "</div>"
      ],
      "text/plain": [
       "   year  year_id  division_id  team_id  team_name  jersey_number  player_id  \\\n",
       "0  2017    12440            1      721  Air Force             19    1812082   \n",
       "1  2017    12440            1      721  Air Force              4    1465070   \n",
       "2  2017    12440            1      721  Air Force             18    1465077   \n",
       "3  2017    12440            1      721  Air Force             21    1465080   \n",
       "4  2017    12440            1      721  Air Force              7    1692917   \n",
       "\n",
       "      player_name                                         player_url  \\\n",
       "0  Yarnell, Jacob  http://stats.ncaa.org/player/index?game_sport_...   \n",
       "1      Ward, Ryan  http://stats.ncaa.org/player/index?game_sport_...   \n",
       "2   Esparza, A.J.  http://stats.ncaa.org/player/index?game_sport_...   \n",
       "3   Axhoj, Tucker  http://stats.ncaa.org/player/index?game_sport_...   \n",
       "4    Bone, Tucker  http://stats.ncaa.org/player/index?game_sport_...   \n",
       "\n",
       "  class_year ...   saves  save_pct  shutouts  g_wins  g_loss  d_saves  \\\n",
       "0        NaN ...     NaN       NaN       NaN     NaN     NaN      NaN   \n",
       "1         Sr ...     NaN       NaN       NaN     NaN     NaN      NaN   \n",
       "2         Sr ...     NaN       NaN       NaN     NaN     NaN      NaN   \n",
       "3         Sr ...     NaN       NaN       NaN     NaN     NaN      NaN   \n",
       "4         So ...     NaN       NaN       NaN     NaN     NaN      NaN   \n",
       "\n",
       "   corners  ps  psa  gwg  \n",
       "0      NaN NaN  NaN  1.0  \n",
       "1      NaN NaN  NaN  NaN  \n",
       "2      NaN NaN  NaN  1.0  \n",
       "3      NaN NaN  NaN  1.0  \n",
       "4      NaN NaN  NaN  2.0  \n",
       "\n",
       "[5 rows x 35 columns]"
      ]
     },
     "execution_count": 34,
     "metadata": {},
     "output_type": "execute_result"
    }
   ],
   "source": [
    "stats17.head()"
   ]
  },
  {
   "cell_type": "code",
   "execution_count": 35,
   "metadata": {
    "collapsed": true
   },
   "outputs": [],
   "source": [
    "stats17['ncaa_name'] = stats17.player_name.apply(lambda x: get_name(x))"
   ]
  },
  {
   "cell_type": "code",
   "execution_count": 36,
   "metadata": {
    "collapsed": true
   },
   "outputs": [],
   "source": [
    "info17 = player_info[player_info.season == 2017][['ncaa_name', 'school', 'season']]"
   ]
  },
  {
   "cell_type": "code",
   "execution_count": 37,
   "metadata": {
    "collapsed": true
   },
   "outputs": [],
   "source": [
    "m = pd.merge(info17, stats17, on='ncaa_name')"
   ]
  },
  {
   "cell_type": "code",
   "execution_count": 38,
   "metadata": {},
   "outputs": [
    {
     "data": {
      "text/plain": [
       "(63, 38)"
      ]
     },
     "execution_count": 38,
     "metadata": {},
     "output_type": "execute_result"
    }
   ],
   "source": [
    "m.shape"
   ]
  },
  {
   "cell_type": "code",
   "execution_count": 39,
   "metadata": {},
   "outputs": [
    {
     "data": {
      "text/plain": [
       "(69, 3)"
      ]
     },
     "execution_count": 39,
     "metadata": {},
     "output_type": "execute_result"
    }
   ],
   "source": [
    "info17.shape"
   ]
  },
  {
   "cell_type": "code",
   "execution_count": 40,
   "metadata": {},
   "outputs": [
    {
     "data": {
      "text/plain": [
       "['Nathan Regis',\n",
       " 'Shamit Shome',\n",
       " 'Adonijah Reid',\n",
       " 'Martim Galvao',\n",
       " 'Dominic Oduro',\n",
       " 'Jeremy Ebobisse']"
      ]
     },
     "execution_count": 40,
     "metadata": {},
     "output_type": "execute_result"
    }
   ],
   "source": [
    "list(set(info17.ncaa_name) - set(m.ncaa_name))"
   ]
  },
  {
   "cell_type": "code",
   "execution_count": 41,
   "metadata": {},
   "outputs": [],
   "source": [
    "m.to_csv(\"ncaa_2017_stats.csv\")"
   ]
  },
  {
   "cell_type": "markdown",
   "metadata": {},
   "source": [
    "## 2012"
   ]
  },
  {
   "cell_type": "code",
   "execution_count": 42,
   "metadata": {
    "collapsed": true
   },
   "outputs": [],
   "source": [
    "stats12 = pd.read_csv(\"2012_data_ncaa.csv\")"
   ]
  },
  {
   "cell_type": "code",
   "execution_count": 43,
   "metadata": {},
   "outputs": [
    {
     "data": {
      "text/html": [
       "<div>\n",
       "<table border=\"1\" class=\"dataframe\">\n",
       "  <thead>\n",
       "    <tr style=\"text-align: right;\">\n",
       "      <th></th>\n",
       "      <th>team_name</th>\n",
       "      <th>year</th>\n",
       "      <th>division_id</th>\n",
       "      <th>jersey_number</th>\n",
       "      <th>player_name</th>\n",
       "      <th>class_year</th>\n",
       "      <th>gp</th>\n",
       "      <th>gs</th>\n",
       "      <th>goals</th>\n",
       "      <th>assists</th>\n",
       "      <th>...</th>\n",
       "      <th>saves</th>\n",
       "      <th>save_pct</th>\n",
       "      <th>shutouts</th>\n",
       "      <th>g_wins</th>\n",
       "      <th>g_loss</th>\n",
       "      <th>d_saves</th>\n",
       "      <th>corners</th>\n",
       "      <th>ps</th>\n",
       "      <th>psa</th>\n",
       "      <th>gwg</th>\n",
       "    </tr>\n",
       "  </thead>\n",
       "  <tbody>\n",
       "    <tr>\n",
       "      <th>0</th>\n",
       "      <td>Notre Dame</td>\n",
       "      <td>2012</td>\n",
       "      <td>1</td>\n",
       "      <td>0</td>\n",
       "      <td>Besler, Nick</td>\n",
       "      <td>Fr</td>\n",
       "      <td>13.0</td>\n",
       "      <td>0.0</td>\n",
       "      <td>0.0</td>\n",
       "      <td>0.0</td>\n",
       "      <td>...</td>\n",
       "      <td>NaN</td>\n",
       "      <td>NaN</td>\n",
       "      <td>NaN</td>\n",
       "      <td>NaN</td>\n",
       "      <td>NaN</td>\n",
       "      <td>0.0</td>\n",
       "      <td>NaN</td>\n",
       "      <td>0.0</td>\n",
       "      <td>0.0</td>\n",
       "      <td>0.0</td>\n",
       "    </tr>\n",
       "    <tr>\n",
       "      <th>1</th>\n",
       "      <td>Notre Dame</td>\n",
       "      <td>2012</td>\n",
       "      <td>1</td>\n",
       "      <td>0</td>\n",
       "      <td>Brown, Leon</td>\n",
       "      <td>So</td>\n",
       "      <td>18.0</td>\n",
       "      <td>17.0</td>\n",
       "      <td>1.0</td>\n",
       "      <td>2.0</td>\n",
       "      <td>...</td>\n",
       "      <td>NaN</td>\n",
       "      <td>NaN</td>\n",
       "      <td>NaN</td>\n",
       "      <td>NaN</td>\n",
       "      <td>NaN</td>\n",
       "      <td>0.0</td>\n",
       "      <td>NaN</td>\n",
       "      <td>0.0</td>\n",
       "      <td>0.0</td>\n",
       "      <td>0.0</td>\n",
       "    </tr>\n",
       "    <tr>\n",
       "      <th>2</th>\n",
       "      <td>Notre Dame</td>\n",
       "      <td>2012</td>\n",
       "      <td>1</td>\n",
       "      <td>0</td>\n",
       "      <td>Cicciarelli, Vince</td>\n",
       "      <td>Fr</td>\n",
       "      <td>NaN</td>\n",
       "      <td>NaN</td>\n",
       "      <td>NaN</td>\n",
       "      <td>NaN</td>\n",
       "      <td>...</td>\n",
       "      <td>NaN</td>\n",
       "      <td>NaN</td>\n",
       "      <td>NaN</td>\n",
       "      <td>NaN</td>\n",
       "      <td>NaN</td>\n",
       "      <td>NaN</td>\n",
       "      <td>NaN</td>\n",
       "      <td>NaN</td>\n",
       "      <td>NaN</td>\n",
       "      <td>NaN</td>\n",
       "    </tr>\n",
       "    <tr>\n",
       "      <th>3</th>\n",
       "      <td>Notre Dame</td>\n",
       "      <td>2012</td>\n",
       "      <td>1</td>\n",
       "      <td>0</td>\n",
       "      <td>Craft, Kyle</td>\n",
       "      <td>So</td>\n",
       "      <td>0.0</td>\n",
       "      <td>0.0</td>\n",
       "      <td>NaN</td>\n",
       "      <td>NaN</td>\n",
       "      <td>...</td>\n",
       "      <td>NaN</td>\n",
       "      <td>NaN</td>\n",
       "      <td>NaN</td>\n",
       "      <td>NaN</td>\n",
       "      <td>NaN</td>\n",
       "      <td>NaN</td>\n",
       "      <td>NaN</td>\n",
       "      <td>NaN</td>\n",
       "      <td>NaN</td>\n",
       "      <td>NaN</td>\n",
       "    </tr>\n",
       "    <tr>\n",
       "      <th>4</th>\n",
       "      <td>Notre Dame</td>\n",
       "      <td>2012</td>\n",
       "      <td>1</td>\n",
       "      <td>0</td>\n",
       "      <td>Finley, Ryan</td>\n",
       "      <td>Jr</td>\n",
       "      <td>17.0</td>\n",
       "      <td>0.0</td>\n",
       "      <td>7.0</td>\n",
       "      <td>2.0</td>\n",
       "      <td>...</td>\n",
       "      <td>NaN</td>\n",
       "      <td>NaN</td>\n",
       "      <td>NaN</td>\n",
       "      <td>NaN</td>\n",
       "      <td>NaN</td>\n",
       "      <td>NaN</td>\n",
       "      <td>NaN</td>\n",
       "      <td>NaN</td>\n",
       "      <td>NaN</td>\n",
       "      <td>NaN</td>\n",
       "    </tr>\n",
       "  </tbody>\n",
       "</table>\n",
       "<p>5 rows × 31 columns</p>\n",
       "</div>"
      ],
      "text/plain": [
       "    team_name  year  division_id  jersey_number         player_name  \\\n",
       "0  Notre Dame  2012            1              0        Besler, Nick   \n",
       "1  Notre Dame  2012            1              0         Brown, Leon   \n",
       "2  Notre Dame  2012            1              0  Cicciarelli, Vince   \n",
       "3  Notre Dame  2012            1              0         Craft, Kyle   \n",
       "4  Notre Dame  2012            1              0        Finley, Ryan   \n",
       "\n",
       "  class_year    gp    gs  goals  assists ...   saves  save_pct  shutouts  \\\n",
       "0         Fr  13.0   0.0    0.0      0.0 ...     NaN       NaN       NaN   \n",
       "1         So  18.0  17.0    1.0      2.0 ...     NaN       NaN       NaN   \n",
       "2         Fr   NaN   NaN    NaN      NaN ...     NaN       NaN       NaN   \n",
       "3         So   0.0   0.0    NaN      NaN ...     NaN       NaN       NaN   \n",
       "4         Jr  17.0   0.0    7.0      2.0 ...     NaN       NaN       NaN   \n",
       "\n",
       "   g_wins  g_loss  d_saves  corners   ps  psa  gwg  \n",
       "0     NaN     NaN      0.0      NaN  0.0  0.0  0.0  \n",
       "1     NaN     NaN      0.0      NaN  0.0  0.0  0.0  \n",
       "2     NaN     NaN      NaN      NaN  NaN  NaN  NaN  \n",
       "3     NaN     NaN      NaN      NaN  NaN  NaN  NaN  \n",
       "4     NaN     NaN      NaN      NaN  NaN  NaN  NaN  \n",
       "\n",
       "[5 rows x 31 columns]"
      ]
     },
     "execution_count": 43,
     "metadata": {},
     "output_type": "execute_result"
    }
   ],
   "source": [
    "stats12.head()"
   ]
  },
  {
   "cell_type": "code",
   "execution_count": 44,
   "metadata": {
    "collapsed": true
   },
   "outputs": [],
   "source": [
    "stats12['ncaa_name'] = stats12.player_name.apply(lambda x: get_name(x))"
   ]
  },
  {
   "cell_type": "code",
   "execution_count": 45,
   "metadata": {
    "collapsed": true
   },
   "outputs": [],
   "source": [
    "info12 = player_info[player_info.season == 2012][['ncaa_name', 'school', 'season']]"
   ]
  },
  {
   "cell_type": "code",
   "execution_count": 46,
   "metadata": {
    "collapsed": true
   },
   "outputs": [],
   "source": [
    "m = pd.merge(info12, stats12, on='ncaa_name')"
   ]
  },
  {
   "cell_type": "code",
   "execution_count": 47,
   "metadata": {},
   "outputs": [
    {
     "data": {
      "text/plain": [
       "(61, 34)"
      ]
     },
     "execution_count": 47,
     "metadata": {},
     "output_type": "execute_result"
    }
   ],
   "source": [
    "m.shape"
   ]
  },
  {
   "cell_type": "code",
   "execution_count": 48,
   "metadata": {},
   "outputs": [
    {
     "data": {
      "text/plain": [
       "(68, 3)"
      ]
     },
     "execution_count": 48,
     "metadata": {},
     "output_type": "execute_result"
    }
   ],
   "source": [
    "info12.shape"
   ]
  },
  {
   "cell_type": "code",
   "execution_count": 49,
   "metadata": {},
   "outputs": [
    {
     "data": {
      "text/plain": [
       "['Jason Banton',\n",
       " 'Kohei Yamada',\n",
       " 'Gienir Garcia',\n",
       " 'Benjamin Ubierna',\n",
       " 'Yuri Gorentzvaig',\n",
       " 'Aldo Paniagua',\n",
       " 'Emiliano Bonfigli']"
      ]
     },
     "execution_count": 49,
     "metadata": {},
     "output_type": "execute_result"
    }
   ],
   "source": [
    "list(set(info12.ncaa_name) - set(m.ncaa_name))"
   ]
  },
  {
   "cell_type": "code",
   "execution_count": 50,
   "metadata": {
    "collapsed": true
   },
   "outputs": [],
   "source": [
    "m.to_csv(\"ncaa_2012_stats.csv\")"
   ]
  },
  {
   "cell_type": "markdown",
   "metadata": {},
   "source": [
    "## Combine the Data"
   ]
  },
  {
   "cell_type": "code",
   "execution_count": 51,
   "metadata": {
    "collapsed": true
   },
   "outputs": [],
   "source": [
    "stats_14 = pd.read_csv(\"ncaa_2014_stats.csv\")\n",
    "stats_15 = pd.read_csv(\"ncaa_2015_stats.csv\")\n",
    "stats_16 = pd.read_csv(\"ncaa_2016_stats.csv\")\n",
    "stats_17 = pd.read_csv(\"ncaa_2017_stats.csv\")\n",
    "stats_12 = pd.read_csv(\"ncaa_2012_stats.csv\")"
   ]
  },
  {
   "cell_type": "code",
   "execution_count": 52,
   "metadata": {},
   "outputs": [],
   "source": [
    "stats_14_17 = pd.concat([stats_14, stats_15, stats_16, stats_17]).drop(labels=['year_id', 'team_id', 'player_url', 'player_id'], axis=1)"
   ]
  },
  {
   "cell_type": "code",
   "execution_count": 53,
   "metadata": {},
   "outputs": [
    {
     "data": {
      "text/plain": [
       "Index(['Unnamed: 0', 'ncaa_name', 'school', 'season', 'year', 'division_id',\n",
       "       'team_name', 'jersey_number', 'player_name', 'class_year', 'gp', 'gs',\n",
       "       'goals', 'assists', 'points', 'sh_att', 'fouls', 'red_cards',\n",
       "       'yellow_cards', 'gc', 'goal_app', 'ggs', 'goalie_min_played', 'ga',\n",
       "       'gaa', 'saves', 'save_pct', 'shutouts', 'g_wins', 'g_loss', 'd_saves',\n",
       "       'corners', 'ps', 'psa', 'gwg'],\n",
       "      dtype='object')"
      ]
     },
     "execution_count": 53,
     "metadata": {},
     "output_type": "execute_result"
    }
   ],
   "source": [
    "stats_14_17.columns"
   ]
  },
  {
   "cell_type": "code",
   "execution_count": 54,
   "metadata": {},
   "outputs": [
    {
     "data": {
      "text/plain": [
       "([], [])"
      ]
     },
     "execution_count": 54,
     "metadata": {},
     "output_type": "execute_result"
    }
   ],
   "source": [
    "list(set(stats_14_17.columns) - set(stats_12.columns)), list(set(stats_12.columns) - set(stats_14_17.columns))"
   ]
  },
  {
   "cell_type": "code",
   "execution_count": 55,
   "metadata": {
    "collapsed": true
   },
   "outputs": [],
   "source": [
    "ncaa_stats = pd.concat([stats_14_17, stats_12])"
   ]
  },
  {
   "cell_type": "code",
   "execution_count": 56,
   "metadata": {},
   "outputs": [
    {
     "data": {
      "text/plain": [
       "Index(['Unnamed: 0', 'assists', 'class_year', 'corners', 'd_saves',\n",
       "       'division_id', 'fouls', 'g_loss', 'g_wins', 'ga', 'gaa', 'gc', 'ggs',\n",
       "       'goal_app', 'goalie_min_played', 'goals', 'gp', 'gs', 'gwg',\n",
       "       'jersey_number', 'ncaa_name', 'player_name', 'points', 'ps', 'psa',\n",
       "       'red_cards', 'save_pct', 'saves', 'school', 'season', 'sh_att',\n",
       "       'shutouts', 'team_name', 'year', 'yellow_cards'],\n",
       "      dtype='object')"
      ]
     },
     "execution_count": 56,
     "metadata": {},
     "output_type": "execute_result"
    }
   ],
   "source": [
    "ncaa_stats.columns"
   ]
  },
  {
   "cell_type": "code",
   "execution_count": 57,
   "metadata": {},
   "outputs": [
    {
     "data": {
      "text/plain": [
       "(301, 35)"
      ]
     },
     "execution_count": 57,
     "metadata": {},
     "output_type": "execute_result"
    }
   ],
   "source": [
    "ncaa_stats.shape"
   ]
  },
  {
   "cell_type": "code",
   "execution_count": 58,
   "metadata": {
    "collapsed": true
   },
   "outputs": [],
   "source": [
    "ncaa_stats.to_csv(\"ncaa_stats_12_14_to_17.csv\")"
   ]
  },
  {
   "cell_type": "code",
   "execution_count": null,
   "metadata": {
    "collapsed": true
   },
   "outputs": [],
   "source": []
  }
 ],
 "metadata": {
  "kernelspec": {
   "display_name": "Python 3",
   "language": "python",
   "name": "python3"
  },
  "language_info": {
   "codemirror_mode": {
    "name": "ipython",
    "version": 3
   },
   "file_extension": ".py",
   "mimetype": "text/x-python",
   "name": "python",
   "nbconvert_exporter": "python",
   "pygments_lexer": "ipython3",
   "version": "3.6.0"
  }
 },
 "nbformat": 4,
 "nbformat_minor": 2
}
